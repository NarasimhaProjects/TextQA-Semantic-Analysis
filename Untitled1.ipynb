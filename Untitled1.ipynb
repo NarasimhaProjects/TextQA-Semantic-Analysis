{
 "cells": [
  {
   "cell_type": "code",
   "execution_count": 1,
   "id": "9d0cac45-9b62-41d8-989b-c2c306bb4c8d",
   "metadata": {},
   "outputs": [
    {
     "ename": "SyntaxError",
     "evalue": "invalid syntax (1071351357.py, line 1)",
     "output_type": "error",
     "traceback": [
      "\u001b[1;36m  Cell \u001b[1;32mIn[1], line 1\u001b[1;36m\u001b[0m\n\u001b[1;33m    mkdir text-qa-semantic-analysis && cd text-qa-semantic-analysis\u001b[0m\n\u001b[1;37m          ^\u001b[0m\n\u001b[1;31mSyntaxError\u001b[0m\u001b[1;31m:\u001b[0m invalid syntax\n"
     ]
    }
   ],
   "source": [
    "mkdir text-qa-semantic-analysis && cd text-qa-semantic-analysis\n",
    "python -m venv venv\n",
    "source venv/bin/activate   # On Windows: venv\\Scripts\\activate\n",
    "pip install pandas numpy torch transformers sentence-transformers bert-score scikit-learn google-cloud-run"
   ]
  },
  {
   "cell_type": "code",
   "execution_count": null,
   "id": "d3160c01-5ca5-4ff3-8d66-8f0b340fd166",
   "metadata": {},
   "outputs": [],
   "source": []
  }
 ],
 "metadata": {
  "kernelspec": {
   "display_name": "Python 3 (ipykernel)",
   "language": "python",
   "name": "python3"
  },
  "language_info": {
   "codemirror_mode": {
    "name": "ipython",
    "version": 3
   },
   "file_extension": ".py",
   "mimetype": "text/x-python",
   "name": "python",
   "nbconvert_exporter": "python",
   "pygments_lexer": "ipython3",
   "version": "3.12.4"
  }
 },
 "nbformat": 4,
 "nbformat_minor": 5
}
